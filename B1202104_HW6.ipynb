{
  "nbformat": 4,
  "nbformat_minor": 0,
  "metadata": {
    "colab": {
      "provenance": [],
      "include_colab_link": true
    },
    "kernelspec": {
      "name": "python3",
      "display_name": "Python 3"
    },
    "language_info": {
      "name": "python"
    }
  },
  "cells": [
    {
      "cell_type": "markdown",
      "metadata": {
        "id": "view-in-github",
        "colab_type": "text"
      },
      "source": [
        "<a href=\"https://colab.research.google.com/github/Jarry0126/2023-10-03/blob/main/B1202104_HW6.ipynb\" target=\"_parent\"><img src=\"https://colab.research.google.com/assets/colab-badge.svg\" alt=\"Open In Colab\"/></a>"
      ]
    },
    {
      "cell_type": "code",
      "execution_count": null,
      "metadata": {
        "colab": {
          "base_uri": "https://localhost:8080/"
        },
        "id": "5OCiQ6xSr2wo",
        "outputId": "1fcde48f-b432-4b27-bdcd-0e5fdc97d331"
      },
      "outputs": [
        {
          "output_type": "stream",
          "name": "stdout",
          "text": [
            "請輸入高度(七以上的整數)：8\n",
            "        *\n",
            "       ***\n",
            "      *****\n",
            "     *******\n",
            "    *********\n",
            "   ***********\n",
            "  *************\n",
            " ***************\n",
            "       ***\n",
            "       ***\n",
            "       ***\n",
            "       ***\n",
            "       ***\n"
          ]
        }
      ],
      "source": [
        "height=int(input(\"請輸入高度(七以上的整數)：\"))\n",
        "def tree(height):\n",
        "  star=1\n",
        "  for i in range(height):\n",
        "    print(\" \" * (height-i)+ \"*\" * star)\n",
        "    star+=2\n",
        "  for j in range(5):\n",
        "    print(\" \" * (height-1)+ \"*\" * 3)\n",
        "tree(height)"
      ]
    },
    {
      "cell_type": "code",
      "source": [
        "try:\n",
        "    def  bmi() :\n",
        "        h  =  float(input(\"身高(cm):\"))\n",
        "        w  =  float(input(\"體重：\"))\n",
        "        m  =  w / ((h/100)**2)\n",
        "        if  m < 18.5 :\n",
        "            b = \"體位過輕\"\n",
        "        elif   18.5  <=  m and m < 24 :\n",
        "            b = \"體位適中\"\n",
        "        elif   24  <=  m and  m < 27 :\n",
        "            b = \"體位過重\"\n",
        "        else:\n",
        "            b = \"體位肥胖\"\n",
        "        m = f\"bmi:{m}\\n{b}\"\n",
        "        return  m\n",
        "    m = bmi()\n",
        "    print(m)\n",
        "except:\n",
        "  print(\"輸入內容有誤\")\n",
        "\n",
        "\n"
      ],
      "metadata": {
        "colab": {
          "base_uri": "https://localhost:8080/"
        },
        "id": "O4xg30HoSbuy",
        "outputId": "7032ae94-bc34-4036-f2d1-2b291c95b684"
      },
      "execution_count": null,
      "outputs": [
        {
          "output_type": "stream",
          "name": "stdout",
          "text": [
            "身高(cm):F\n",
            "輸入內容有誤\n"
          ]
        }
      ]
    }
  ]
}